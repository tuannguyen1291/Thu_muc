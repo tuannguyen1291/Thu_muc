{
  "cells": [
    {
      "cell_type": "markdown",
      "metadata": {
        "id": "view-in-github",
        "colab_type": "text"
      },
      "source": [
        "<a href=\"https://colab.research.google.com/github/tuannguyen1291/Thu_muc/blob/main/L%E1%BA%ADp_tr%C3%ACnh_t%E1%BA%ADp_tin.ipynb\" target=\"_parent\"><img src=\"https://colab.research.google.com/assets/colab-badge.svg\" alt=\"Open In Colab\"/></a>"
      ]
    },
    {
      "cell_type": "code",
      "execution_count": null,
      "metadata": {
        "colab": {
          "base_uri": "https://localhost:8080/"
        },
        "id": "eRrd7A1U4dRV",
        "outputId": "3ea305a5-c5b6-4024-959d-b06504264b02"
      },
      "outputs": [
        {
          "name": "stdout",
          "output_type": "stream",
          "text": [
            "Nhập 1 chuỗi kí tự: NNLT\n",
            "Nhập tên tệp: NN\n"
          ]
        }
      ],
      "source": [
        "chuoi = input(\"Nhập 1 chuỗi kí tự: \")\n",
        "tep = input(\"Nhập tên tệp: \") + \".txt\""
      ]
    },
    {
      "cell_type": "markdown",
      "source": [
        "##Câu 1:"
      ],
      "metadata": {
        "id": "w9pwzOpkntea"
      }
    },
    {
      "cell_type": "code",
      "execution_count": null,
      "metadata": {
        "id": "JEju16Lt7T_Z"
      },
      "outputs": [],
      "source": [
        "def bai1(a,b):\n",
        "  save=open(a,\"w\")\n",
        "  save.write(b)\n",
        "  save.close()"
      ]
    },
    {
      "cell_type": "markdown",
      "metadata": {
        "id": "eLUvrYRV-9ds"
      },
      "source": [
        "##Cau 2"
      ]
    },
    {
      "cell_type": "code",
      "execution_count": null,
      "metadata": {
        "id": "MwrsKoUg_BFZ"
      },
      "outputs": [],
      "source": [
        "def bai2(c):\n",
        "  f=open(c,\"r\")\n",
        "  print(f.read())"
      ]
    },
    {
      "cell_type": "markdown",
      "metadata": {
        "id": "Ctomq14hAXzL"
      },
      "source": [
        "##Cau 3"
      ]
    },
    {
      "cell_type": "code",
      "execution_count": null,
      "metadata": {
        "id": "ztkKzIqWAaZh"
      },
      "outputs": [],
      "source": [
        "def bai3(b,d):\n",
        "  f=open(b,\"a\")\n",
        "  f.write(d)\n",
        "  f.close() "
      ]
    },
    {
      "cell_type": "markdown",
      "metadata": {
        "id": "Np_aVG5yCN5I"
      },
      "source": [
        "##Cau 4"
      ]
    },
    {
      "cell_type": "code",
      "execution_count": null,
      "metadata": {
        "id": "F6JFf-c0CRdj"
      },
      "outputs": [],
      "source": [
        "def bai4(a):\n",
        "  f= open(a,\"r\")\n",
        "  print(f.read())"
      ]
    },
    {
      "cell_type": "code",
      "execution_count": null,
      "metadata": {
        "colab": {
          "base_uri": "https://localhost:8080/"
        },
        "id": "MhkrgBWv83XW",
        "outputId": "d71a1e53-51f0-4c3e-ce75-8e5e6e4569ba"
      },
      "outputs": [
        {
          "output_type": "stream",
          "name": "stdout",
          "text": [
            "NNLT\n",
            "NNLTNNLT\n"
          ]
        }
      ],
      "source": [
        "#Thực thi lệnh chạy\n",
        "def main():\n",
        "  b = chuoi\n",
        "  a = tep\n",
        "  bai1(a,b)\n",
        "  bai2(a)\n",
        "  bai3(a,b)\n",
        "  bai4(a)\n",
        "if __name__ == \"__main__\":\n",
        "  main()"
      ]
    },
    {
      "cell_type": "markdown",
      "metadata": {
        "id": "UxepN19XFELn"
      },
      "source": [
        "##Cau 5:"
      ]
    },
    {
      "cell_type": "code",
      "execution_count": 13,
      "metadata": {
        "colab": {
          "base_uri": "https://localhost:8080/"
        },
        "id": "c94oUTWJFGMR",
        "outputId": "d7c299cb-2aa5-4b6b-a802-2512e3bb0e7f"
      },
      "outputs": [
        {
          "output_type": "stream",
          "name": "stdout",
          "text": [
            "Nhập tên file: nn\n",
            "756\t135\t662\t954\t-3\t-136\t-581\t422\t-938\t304\t-458\n",
            "\n",
            "417\t-431\t550\t353\t836\t89\t478\t-741\t939\t705\t-574\n",
            "\n",
            "-597\t827\t898\t932\t228\t-972\t-345\t280\t900\t-413\t-67\n",
            "\n",
            "-427\t467\t966\t940\t-403\t-415\t356\t312\t766\t201\t-860\n",
            "\n",
            "-367\t-266\t-244\t220\t610\t865\t980\t115\t-693\t899\t-330\n",
            "\n",
            "72\t-688\t-735\t-320\t368\t-134\t346\t-142\t308\t46\t684\n",
            "\n",
            "-766\t-357\t-924\t-201\t519\t-804\t-121\t-426\t457\t-201\t-570\n",
            "\n",
            "-678\t-568\t134\t411\t89\t759\t-23\t-308\t-275\t644\t176\n",
            "\n",
            "-457\t-50\t173\t-351\t352\t745\t-654\t-351\t-432\t877\t702\n",
            "\n",
            "807\t235\t981\t-736\t563\t223\t-841\t973\t-124\t254\t986\n",
            "\n",
            "-74\t288\t576\t-683\t-962\t-587\t725\t-634\t456\t999\t-803\n",
            "\n",
            "499\t-136\t-265\t-444\t899\t-891\t91\t42\t-916\t-225\t276\n",
            "\n",
            "267\t545\t591\t-224\t255\t819\t660\t-333\t-234\t-639\t684\n",
            "\n",
            "736\t830\t-391\t-263\t-765\t269\t-872\t754\t587\t-350\t440\n",
            "\n",
            "-755\t-370\t730\t814\t-817\t761\t453\t-738\t407\t976\t-503\n",
            "\n",
            "-271\t-736\t-289\t364\t-277\t-754\t94\t-758\t-949\t-935\t-901\n",
            "\n",
            "900\t-14\t617\t-593\t-512\t-705\t519\t263\t315\t-52\t124\n",
            "\n",
            "694\t188\t668\t-49\t-296\t-255\t-569\t-874\t-297\t-444\t-241\n",
            "\n",
            "-376\t576\t-711\t383\t383\t112\t-565\t-451\t479\t145\t209\n",
            "\n",
            "757\t-207\t-588\t952\t-886\t-833\t-687\t-947\t-642\t487\t-740\n",
            "\n",
            "-983\t801\t-591\t383\t863\t-308\t-676\t-866\t-490\t-166\t388\n",
            "\n",
            "-675\t188\t26\t83\t-81\t-325\t478\t-38\t-555\t-219\t468\n",
            "\n",
            "-126\t796\t159\t-619\t392\t-176\t-181\t-893\t171\t663\t544\n",
            "\n",
            "-147\t-984\t804\t876\t273\t335\t724\t4\t-90\t-12\t991\n",
            "\n",
            "260\t502\t231\t445\t223\t331\t845\t-887\t143\t-25\t-223\n",
            "\n",
            "-200\t-866\t615\t543\t675\t383\t779\t-110\t887\t-699\t-172\n",
            "\n",
            "951\t-97\t713\t645\t860\t-139\t-521\t-768\t941\t-894\t382\n",
            "\n",
            "150\t858\t67\t317\t46\t11\t-955\t700\t626\t218\t-964\n",
            "\n",
            "607\t-705\t826\t-602\t-294\t99\t-904\t652\t877\t-574\t-777\n",
            "\n",
            "-676\t-363\t978\t993\t854\t779\t681\t565\t-920\t128\t-764\n",
            "\n",
            "-215\t989\t751\t-417\t-679\t313\t-868\t283\t-974\t359\t-886\n",
            "\n",
            "558\t-91\t960\t283\t79\t-220\t-957\t47\t-526\t-115\t-396\n",
            "\n",
            "217\t-693\t886\t35\t-41\t-432\t167\t-195\t256\t-976\t179\n",
            "\n",
            "-705\t425\t-635\t73\t389\t-769\t-209\t186\t-830\t-445\t746\n",
            "\n",
            "674\t-774\t15\t543\t-877\t-187\t680\t808\t-180\t-239\t957\n",
            "\n",
            "980\t53\t372\t-129\t16\t446\t157\t876\t-672\t-642\t374\n",
            "\n",
            "-497\t-407\t973\t-575\t483\t908\t294\t649\t969\t318\t550\n",
            "\n",
            "-560\t-266\t150\t18\t-653\t250\t-257\t832\t960\t-377\t326\n",
            "\n",
            "-546\t-958\t-998\t810\t221\t129\t-754\t183\t785\t-36\t246\n",
            "\n",
            "-923\t-225\t-102\t136\t-531\t404\t-371\t706\t84\t725\t-206\n",
            "\n",
            "676\t-738\t-478\t733\t562\t-706\t-498\t-391\t310\t165\t-574\n",
            "\n",
            "-713\t401\t941\t-498\t-255\t-95\t371\t479\t444\t-188\t-585\n",
            "\n",
            "397\t201\t439\t527\t600\t-764\t-139\t-634\t891\t-183\t595\n",
            "\n",
            "77\t189\t227\t918\t-112\t-677\t17\t-936\t-431\t65\t495\n",
            "\n",
            "933\t-609\t-583\t-25\t-165\t609\t-590\t-910\t-447\t-653\t-384\n",
            "\n",
            "428\t-529\t-990\t-550\t-76\t25\t754\t-556\t368\t875\t372\n",
            "\n",
            "687\t-373\t-105\t498\t-818\t-991\t-55\t797\t818\t-953\t443\n",
            "\n",
            "113\t-956\t753\t122\t-903\t-784\t-164\t885\t-299\t-619\t-332\n",
            "\n",
            "-138\t-216\t-750\t-912\t-734\t-336\t-298\t601\t-594\t-909\t-763\n",
            "\n",
            "603\t-84\t-481\t784\t362\t-739\t274\t287\t116\t758\t-112\n",
            "\n",
            "-644\t368\t-631\t808\t-659\t265\t90\t-664\t-640\t-866\t-749\n",
            "\n",
            "725\t-640\t-946\t-417\t-979\t-932\t972\t-142\t831\t-70\t-185\n",
            "\n",
            "261\t-61\t-510\t102\t-74\t-574\t-915\t193\t-307\t413\t-690\n",
            "\n",
            "606\t162\t728\t615\t-881\t-618\t595\t223\t602\t377\t838\n",
            "\n",
            "332\t-306\t-94\t922\t-319\t-117\t471\t-203\t103\t-343\t227\n",
            "\n",
            "-99\t-97\t-855\t-478\t-688\t671\t159\t460\t-565\t-149\t230\n",
            "\n",
            "713\t722\t399\t-324\t497\t914\t601\t-975\t853\t395\t399\n",
            "\n",
            "-385\t-956\t-90\t-92\t-639\t-128\t-725\t-633\t573\t-431\t874\n",
            "\n",
            "-250\t-357\t125\t-799\t593\t-439\t317\t-398\t395\t716\t-635\n",
            "\n",
            "-918\t0\t353\t-656\t697\t653\t-43\t762\t-259\t-760\t-328\n",
            "\n",
            "-334\t-748\t-909\t969\t798\t94\t-480\t93\t-190\t16\t-805\n",
            "\n",
            "-340\t-341\t692\t-553\t368\t-281\t-655\t38\t142\t-548\t981\n",
            "\n",
            "686\t-11\t-768\t-583\t-867\t845\t10\t595\t-500\t631\t128\n",
            "\n",
            "-408\t721\t401\t444\t841\t-589\t-398\t88\t-260\t-793\t-178\n",
            "\n",
            "89\t970\t61\t135\t408\t-130\t937\t446\t-630\t465\t-504\n",
            "\n",
            "-570\t609\t372\t-20\t636\t-695\t805\t-741\t686\t857\t-977\n",
            "\n",
            "302\t583\t837\t-358\t172\t986\t645\t-418\t299\t706\t-405\n",
            "\n",
            "462\t-991\t-71\t-334\t-841\t106\t553\t-949\t-531\t894\t762\n",
            "\n",
            "996\t871\t-118\t-459\t-38\t933\t971\t-807\t434\t-440\t92\n",
            "\n",
            "345\t-673\t882\t984\t350\t119\t-900\t-157\t41\t238\t643\n",
            "\n",
            "-859\t-908\t156\t422\t412\t394\t38\t38\t-214\t104\t441\n",
            "\n",
            "-722\t221\t-70\t464\t224\t166\t-714\t-995\t960\t-157\t-146\n",
            "\n",
            "786\t895\t-6\t-383\t-307\t122\t626\t-823\t524\t513\t119\n",
            "\n",
            "-449\t-807\t111\t254\t769\t-40\t952\t667\t808\t991\t-696\n",
            "\n",
            "151\t-967\t876\t195\t-577\t438\t-729\t106\t-53\t451\t-333\n",
            "\n",
            "787\t834\t-37\t-748\t-856\t651\t842\t-881\t-568\t-578\t-224\n",
            "\n",
            "340\t907\t-59\t-947\t-746\t-622\t976\t-442\t-884\t-643\t-300\n",
            "\n",
            "562\t235\t452\t931\t-95\t-213\t-91\t784\t-524\t814\t570\n",
            "\n",
            "-58\t-911\t-467\t-218\t-965\t-29\t-181\t-981\t-856\t267\t-122\n",
            "\n",
            "397\t-910\t621\t-554\t-556\t-229\t-399\t-159\t539\t-804\t-152\n",
            "\n",
            "-471\t-415\t215\t92\t260\t-393\t-188\t263\t71\t138\t-521\n",
            "\n",
            "-258\t185\t108\t-531\t190\t853\t-3\t68\t739\t-979\t-525\n",
            "\n",
            "-112\t845\t-739\t671\t181\t752\t354\t427\t539\t-225\t-962\n",
            "\n",
            "561\t-718\t-65\t804\t774\t-261\t286\t21\t-478\t-483\t98\n",
            "\n",
            "-856\t-127\t-189\t-739\t412\t388\t-92\t-29\t-91\t761\t795\n",
            "\n",
            "286\t-158\t544\t993\t-747\t-295\t586\t231\t-979\t869\t259\n",
            "\n",
            "962\t-586\t-377\t-765\t809\t168\t772\t231\t-778\t-609\t-305\n",
            "\n",
            "254\t60\t56\t88\t642\t-655\t-104\t999\t773\t608\t920\n",
            "\n",
            "644\t477\t636\t-704\t365\t97\t418\t-956\t882\t-196\t142\n",
            "\n",
            "914\t13\t819\t217\t-263\t47\t-326\t270\t210\t359\t931\n",
            "\n",
            "-572\t679\t-217\t-13\t6\t-449\t914\t-600\t-529\t419\t\n"
          ]
        }
      ],
      "source": [
        "import random\n",
        "danhsach = []\n",
        "check = 0\n",
        "for i in range(1000):\n",
        "    danhsach.append(random.randint(-1000, 1000))\n",
        "tenfile = input(\"Nhập tên file: \")\n",
        "for i in danhsach:\n",
        "    if check < 9:\n",
        "        f = open(tenfile, 'a')\n",
        "        chuoikytu = str(i)+','\n",
        "        f.write(chuoikytu)\n",
        "        f.close()\n",
        "        check=check+1\n",
        "    else:\n",
        "        f = open(tenfile, 'a')\n",
        "        f.write(str(i)+\"\\n\" )\n",
        "        f.close()\n",
        "        check = 0\n",
        "f = open(tenfile, 'r')\n",
        "a = f.readlines()\n",
        "for i in a:\n",
        "    print(i.replace(\",\", \"\\t\"))\n",
        "f.close()"
      ]
    }
  ],
  "metadata": {
    "colab": {
      "provenance": [],
      "authorship_tag": "ABX9TyOukNiqaK/5BO3TUYEIoQ3R",
      "include_colab_link": true
    },
    "kernelspec": {
      "display_name": "Python 3",
      "name": "python3"
    },
    "language_info": {
      "name": "python"
    }
  },
  "nbformat": 4,
  "nbformat_minor": 0
}